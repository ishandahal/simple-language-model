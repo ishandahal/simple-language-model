{
 "cells": [
  {
   "cell_type": "markdown",
   "id": "8dbe7fb2-675f-428e-b9ba-56956991a64c",
   "metadata": {},
   "source": [
    "### Language model\n",
    "Building a character level language model using neural nets. Training is going to consist of using three characters to predict the fourth character"
   ]
  },
  {
   "cell_type": "code",
   "execution_count": 1,
   "id": "e4ebfb86-3805-4df8-90b8-d798714e1d3c",
   "metadata": {},
   "outputs": [
    {
     "name": "stdout",
     "output_type": "stream",
     "text": [
      "--2024-04-22 20:05:07--  https://raw.githubusercontent.com/karpathy/makemore/master/names.txt\n",
      "Resolving raw.githubusercontent.com (raw.githubusercontent.com)... 2606:50c0:8000::154, 2606:50c0:8002::154, 2606:50c0:8003::154, ...\n",
      "Connecting to raw.githubusercontent.com (raw.githubusercontent.com)|2606:50c0:8000::154|:443... connected.\n",
      "HTTP request sent, awaiting response... 200 OK\n",
      "Length: 228145 (223K) [text/plain]\n",
      "Saving to: ‘names.txt’\n",
      "\n",
      "names.txt           100%[===================>] 222.80K  --.-KB/s    in 0.07s   \n",
      "\n",
      "2024-04-22 20:05:08 (2.98 MB/s) - ‘names.txt’ saved [228145/228145]\n",
      "\n"
     ]
    }
   ],
   "source": [
    "# Dataset with babynames\n",
    "# The most common 32K names takes from ssa.gov for the year 2018\n",
    "# !wget https://raw.githubusercontent.com/karpathy/makemore/master/names.txt"
   ]
  },
  {
   "cell_type": "code",
   "execution_count": 2,
   "id": "89d6a126-579a-4bc6-b7c6-2f9114531293",
   "metadata": {},
   "outputs": [],
   "source": [
    "with open('names.txt', 'r') as file:\n",
    "    names = file.read().split()"
   ]
  },
  {
   "cell_type": "code",
   "execution_count": 3,
   "id": "803266bb-7b8e-483a-824a-099754ac3571",
   "metadata": {},
   "outputs": [
    {
     "data": {
      "text/plain": [
       "['emma',\n",
       " 'olivia',\n",
       " 'ava',\n",
       " 'isabella',\n",
       " 'sophia',\n",
       " 'charlotte',\n",
       " 'mia',\n",
       " 'amelia',\n",
       " 'harper',\n",
       " 'evelyn']"
      ]
     },
     "execution_count": 3,
     "metadata": {},
     "output_type": "execute_result"
    }
   ],
   "source": [
    "# Looking at few samples\n",
    "names[:10]"
   ]
  },
  {
   "cell_type": "code",
   "execution_count": 4,
   "id": "cfe4f69b-8589-492b-8abd-facc1b7ca666",
   "metadata": {},
   "outputs": [
    {
     "data": {
      "text/plain": [
       "32033"
      ]
     },
     "execution_count": 4,
     "metadata": {},
     "output_type": "execute_result"
    }
   ],
   "source": [
    "# Total number of names\n",
    "len(names)"
   ]
  },
  {
   "cell_type": "code",
   "execution_count": 8,
   "id": "a17f3055-bfdf-4c44-b00c-6d944ec8c86c",
   "metadata": {},
   "outputs": [
    {
     "name": "stdout",
     "output_type": "stream",
     "text": [
      "Shortest name has 2 letters\n",
      "Longest name has 15 letters\n"
     ]
    }
   ],
   "source": [
    "# Shortest name \n",
    "print(f'Shortest name has {min(len(name) for name in names)} letters')\n",
    "# Longest name\n",
    "print(f'Longest name has {max(len(name) for name in names)} letters')"
   ]
  },
  {
   "cell_type": "markdown",
   "id": "a76922b9-a2ce-4991-a577-20748c20e810",
   "metadata": {},
   "source": [
    "Names are in english language and only contain alphabets. We are going to use all the unique characters to create our vocabulary. We are going to use '.' as a placeholder to indicate start and end of a sequence of characters (name)."
   ]
  },
  {
   "cell_type": "code",
   "execution_count": 15,
   "id": "09b7d7db-68ae-4bb3-9af4-93e6daaa002e",
   "metadata": {},
   "outputs": [
    {
     "data": {
      "text/plain": [
       "['.',\n",
       " 'a',\n",
       " 'b',\n",
       " 'c',\n",
       " 'd',\n",
       " 'e',\n",
       " 'f',\n",
       " 'g',\n",
       " 'h',\n",
       " 'i',\n",
       " 'j',\n",
       " 'k',\n",
       " 'l',\n",
       " 'm',\n",
       " 'n',\n",
       " 'o',\n",
       " 'p',\n",
       " 'q',\n",
       " 'r',\n",
       " 's',\n",
       " 't',\n",
       " 'u',\n",
       " 'v',\n",
       " 'w',\n",
       " 'x',\n",
       " 'y',\n",
       " 'z']"
      ]
     },
     "execution_count": 15,
     "metadata": {},
     "output_type": "execute_result"
    }
   ],
   "source": [
    "vocab = sorted(list(set(list(''.join(names))))) # sorted characters\n",
    "delimiter = ['.'] \n",
    "vocab = delimiter + vocab\n",
    "vocab"
   ]
  },
  {
   "cell_type": "code",
   "execution_count": 54,
   "id": "2044b245-d5cf-4a93-95e5-39ade9cfed2b",
   "metadata": {},
   "outputs": [],
   "source": [
    "X, Y = [], []\n",
    "block_size = 3\n",
    "def create_data(block_size: int):\n",
    "    \"\"\"Create dataset for given block size\"\"\"\n",
    "    for name in names:\n",
    "        name = block_size * \".\" + name + \".\"\n",
    "        name\n",
    "        for idx in range(len(name) - block_size):\n",
    "            start_idx = idx\n",
    "            end_idx = idx + block_size\n",
    "            X.append(tuple(name[start_idx:end_idx]))\n",
    "            Y.append(name[block_size + start_idx])\n",
    "create_data(block_size)"
   ]
  },
  {
   "cell_type": "code",
   "execution_count": 13,
   "id": "94bde21d-0cfc-4a4f-ad26-690d95c89636",
   "metadata": {},
   "outputs": [
    {
     "name": "stdout",
     "output_type": "stream",
     "text": [
      "('.', '.', '.') --> e\n",
      "('.', '.', 'e') --> m\n",
      "('.', 'e', 'm') --> m\n",
      "('e', 'm', 'm') --> a\n",
      "('m', 'm', 'a') --> .\n",
      "('.', '.', '.') --> o\n",
      "('.', '.', 'o') --> l\n",
      "('.', 'o', 'l') --> i\n",
      "('o', 'l', 'i') --> v\n",
      "('l', 'i', 'v') --> i\n"
     ]
    }
   ],
   "source": [
    "# Printing some outputs\n",
    "for feat, targ in zip(X[:10], Y[:10]):\n",
    "# for feat, targ in zip(X[-10:], Y[-10:]):\n",
    "    print(f\"{feat} --> {targ}\")"
   ]
  },
  {
   "cell_type": "code",
   "execution_count": 48,
   "id": "c0c59355-4362-481c-b590-5b183f30c8fd",
   "metadata": {},
   "outputs": [],
   "source": [
    "# Converting characters to tokens \n",
    "stoi = {char: idx for idx, char in enumerate(vocab)} # char to int\n",
    "itos = {idx: char for char, idx in stoi.items()}     # int to char"
   ]
  },
  {
   "cell_type": "code",
   "execution_count": 55,
   "id": "575285c6-d9c3-4754-aeed-ff5d5dc62001",
   "metadata": {},
   "outputs": [],
   "source": [
    "# Tokenize the data\n",
    "X = [(stoi[first], stoi[second], stoi[third]) for first, second, third in X]\n",
    "Y = [stoi[char] for char in Y]"
   ]
  },
  {
   "cell_type": "code",
   "execution_count": 56,
   "id": "c32b2b81-2487-4cd1-91f0-48c1d075a20d",
   "metadata": {},
   "outputs": [
    {
     "name": "stdout",
     "output_type": "stream",
     "text": [
      "('.', '.', '.') --> e\n",
      "('.', '.', 'e') --> m\n",
      "('.', 'e', 'm') --> m\n",
      "('e', 'm', 'm') --> a\n",
      "('m', 'm', 'a') --> .\n",
      "('.', '.', '.') --> o\n",
      "('.', '.', 'o') --> l\n",
      "('.', 'o', 'l') --> i\n",
      "('o', 'l', 'i') --> v\n",
      "('l', 'i', 'v') --> i\n"
     ]
    }
   ],
   "source": [
    "# Visualizing after tokenization\n",
    "for (feats, lab) in zip(X[:10], Y[:10]):\n",
    "    print(f'{itos[feats[0]], itos[feats[1]], itos[feats[2]]} --> {itos[lab]}')"
   ]
  },
  {
   "cell_type": "markdown",
   "id": "90aeb004-46e6-4b05-be4b-396b8aa0b4c1",
   "metadata": {},
   "source": [
    "The size of the dataset is around 228k"
   ]
  },
  {
   "cell_type": "code",
   "execution_count": 58,
   "id": "3c6b9d1d-af4e-41f9-a414-dfafc758ef7e",
   "metadata": {},
   "outputs": [
    {
     "data": {
      "text/plain": [
       "(228146, 228146)"
      ]
     },
     "execution_count": 58,
     "metadata": {},
     "output_type": "execute_result"
    }
   ],
   "source": [
    "len(X), len(Y)"
   ]
  },
  {
   "cell_type": "code",
   "execution_count": null,
   "id": "24f3a0d4-4b73-4034-b2ec-855deabd8c74",
   "metadata": {},
   "outputs": [],
   "source": []
  }
 ],
 "metadata": {
  "kernelspec": {
   "display_name": "Python 3 (ipykernel)",
   "language": "python",
   "name": "python3"
  },
  "language_info": {
   "codemirror_mode": {
    "name": "ipython",
    "version": 3
   },
   "file_extension": ".py",
   "mimetype": "text/x-python",
   "name": "python",
   "nbconvert_exporter": "python",
   "pygments_lexer": "ipython3",
   "version": "3.11.3"
  }
 },
 "nbformat": 4,
 "nbformat_minor": 5
}
