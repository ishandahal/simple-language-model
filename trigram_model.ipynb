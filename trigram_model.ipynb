{
 "cells": [
  {
   "cell_type": "markdown",
   "id": "8dbe7fb2-675f-428e-b9ba-56956991a64c",
   "metadata": {},
   "source": [
    "### Language model\n",
    "Building a character level language model using neural nets. Training is going to consist of using three characters to predict the fourth character"
   ]
  },
  {
   "cell_type": "code",
   "execution_count": 104,
   "id": "6ace726e-c750-4e80-8443-adb960057f73",
   "metadata": {},
   "outputs": [],
   "source": [
    "import torch\n",
    "import torch.nn.functional as F\n",
    "import torch.nn as nn\n",
    "import matplotlib.pyplot as plt"
   ]
  },
  {
   "cell_type": "code",
   "execution_count": 2,
   "id": "e4ebfb86-3805-4df8-90b8-d798714e1d3c",
   "metadata": {},
   "outputs": [],
   "source": [
    "# Dataset with babynames\n",
    "# The most common 32K names takes from ssa.gov for the year 2018\n",
    "# !wget https://raw.githubusercontent.com/karpathy/makemore/master/names.txt"
   ]
  },
  {
   "cell_type": "code",
   "execution_count": 3,
   "id": "89d6a126-579a-4bc6-b7c6-2f9114531293",
   "metadata": {},
   "outputs": [],
   "source": [
    "with open('names.txt', 'r') as file:\n",
    "    names = file.read().split()"
   ]
  },
  {
   "cell_type": "code",
   "execution_count": 4,
   "id": "803266bb-7b8e-483a-824a-099754ac3571",
   "metadata": {},
   "outputs": [
    {
     "data": {
      "text/plain": [
       "['emma',\n",
       " 'olivia',\n",
       " 'ava',\n",
       " 'isabella',\n",
       " 'sophia',\n",
       " 'charlotte',\n",
       " 'mia',\n",
       " 'amelia',\n",
       " 'harper',\n",
       " 'evelyn']"
      ]
     },
     "execution_count": 4,
     "metadata": {},
     "output_type": "execute_result"
    }
   ],
   "source": [
    "# Looking at few samples\n",
    "names[:10]"
   ]
  },
  {
   "cell_type": "code",
   "execution_count": 5,
   "id": "cfe4f69b-8589-492b-8abd-facc1b7ca666",
   "metadata": {},
   "outputs": [
    {
     "data": {
      "text/plain": [
       "32033"
      ]
     },
     "execution_count": 5,
     "metadata": {},
     "output_type": "execute_result"
    }
   ],
   "source": [
    "# Total number of names\n",
    "len(names)"
   ]
  },
  {
   "cell_type": "code",
   "execution_count": 6,
   "id": "a17f3055-bfdf-4c44-b00c-6d944ec8c86c",
   "metadata": {},
   "outputs": [
    {
     "name": "stdout",
     "output_type": "stream",
     "text": [
      "Shortest name has 2 letters\n",
      "Longest name has 15 letters\n"
     ]
    }
   ],
   "source": [
    "# Shortest name \n",
    "print(f'Shortest name has {min(len(name) for name in names)} letters')\n",
    "# Longest name\n",
    "print(f'Longest name has {max(len(name) for name in names)} letters')"
   ]
  },
  {
   "cell_type": "markdown",
   "id": "a76922b9-a2ce-4991-a577-20748c20e810",
   "metadata": {},
   "source": [
    "Names are in english language and only contain alphabets. We are going to use all the unique characters to create our vocabulary. We are going to use '.' as a placeholder to indicate start and end of a sequence of characters (name)."
   ]
  },
  {
   "cell_type": "code",
   "execution_count": 7,
   "id": "09b7d7db-68ae-4bb3-9af4-93e6daaa002e",
   "metadata": {},
   "outputs": [
    {
     "data": {
      "text/plain": [
       "['.',\n",
       " 'a',\n",
       " 'b',\n",
       " 'c',\n",
       " 'd',\n",
       " 'e',\n",
       " 'f',\n",
       " 'g',\n",
       " 'h',\n",
       " 'i',\n",
       " 'j',\n",
       " 'k',\n",
       " 'l',\n",
       " 'm',\n",
       " 'n',\n",
       " 'o',\n",
       " 'p',\n",
       " 'q',\n",
       " 'r',\n",
       " 's',\n",
       " 't',\n",
       " 'u',\n",
       " 'v',\n",
       " 'w',\n",
       " 'x',\n",
       " 'y',\n",
       " 'z']"
      ]
     },
     "execution_count": 7,
     "metadata": {},
     "output_type": "execute_result"
    }
   ],
   "source": [
    "vocab = sorted(list(set(list(''.join(names))))) # sorted characters\n",
    "delimiter = '.' \n",
    "vocab = [ delimiter ] + vocab\n",
    "vocab"
   ]
  },
  {
   "cell_type": "code",
   "execution_count": 8,
   "id": "2044b245-d5cf-4a93-95e5-39ade9cfed2b",
   "metadata": {},
   "outputs": [],
   "source": [
    "X, Y = [], []\n",
    "block_size = 3\n",
    "def create_data(block_size: int):\n",
    "    \"\"\"Create dataset for given block size\"\"\"\n",
    "    for name in names:\n",
    "        name = block_size * \".\" + name + \".\"\n",
    "        name\n",
    "        for idx in range(len(name) - block_size):\n",
    "            start_idx = idx\n",
    "            end_idx = idx + block_size\n",
    "            X.append(tuple(name[start_idx:end_idx]))\n",
    "            Y.append(name[block_size + start_idx])\n",
    "create_data(block_size)"
   ]
  },
  {
   "cell_type": "code",
   "execution_count": 9,
   "id": "94bde21d-0cfc-4a4f-ad26-690d95c89636",
   "metadata": {},
   "outputs": [
    {
     "name": "stdout",
     "output_type": "stream",
     "text": [
      "('.', '.', '.') --> e\n",
      "('.', '.', 'e') --> m\n",
      "('.', 'e', 'm') --> m\n",
      "('e', 'm', 'm') --> a\n",
      "('m', 'm', 'a') --> .\n",
      "('.', '.', '.') --> o\n",
      "('.', '.', 'o') --> l\n",
      "('.', 'o', 'l') --> i\n",
      "('o', 'l', 'i') --> v\n",
      "('l', 'i', 'v') --> i\n"
     ]
    }
   ],
   "source": [
    "# Printing some outputs\n",
    "for feat, targ in zip(X[:10], Y[:10]):\n",
    "# for feat, targ in zip(X[-10:], Y[-10:]):\n",
    "    print(f\"{feat} --> {targ}\")"
   ]
  },
  {
   "cell_type": "code",
   "execution_count": 10,
   "id": "c0c59355-4362-481c-b590-5b183f30c8fd",
   "metadata": {},
   "outputs": [],
   "source": [
    "# Converting characters to tokens \n",
    "stoi = {char: idx for idx, char in enumerate(vocab)} # char to int\n",
    "itos = {idx: char for char, idx in stoi.items()}     # int to char"
   ]
  },
  {
   "cell_type": "code",
   "execution_count": 11,
   "id": "575285c6-d9c3-4754-aeed-ff5d5dc62001",
   "metadata": {},
   "outputs": [],
   "source": [
    "# Tokenize the data\n",
    "X = [(stoi[first], stoi[second], stoi[third]) for first, second, third in X]\n",
    "Y = [stoi[char] for char in Y]"
   ]
  },
  {
   "cell_type": "code",
   "execution_count": 12,
   "id": "c32b2b81-2487-4cd1-91f0-48c1d075a20d",
   "metadata": {},
   "outputs": [
    {
     "name": "stdout",
     "output_type": "stream",
     "text": [
      "('.', '.', '.') --> e\n",
      "('.', '.', 'e') --> m\n",
      "('.', 'e', 'm') --> m\n",
      "('e', 'm', 'm') --> a\n",
      "('m', 'm', 'a') --> .\n",
      "('.', '.', '.') --> o\n",
      "('.', '.', 'o') --> l\n",
      "('.', 'o', 'l') --> i\n",
      "('o', 'l', 'i') --> v\n",
      "('l', 'i', 'v') --> i\n"
     ]
    }
   ],
   "source": [
    "# Visualizing after tokenization\n",
    "for (feats, lab) in zip(X[:10], Y[:10]):\n",
    "    print(f'{itos[feats[0]], itos[feats[1]], itos[feats[2]]} --> {itos[lab]}')"
   ]
  },
  {
   "cell_type": "code",
   "execution_count": 13,
   "id": "9700344b-6295-420d-aa58-22328ebce1f5",
   "metadata": {},
   "outputs": [],
   "source": [
    "# Convert to tesnors\n",
    "X = torch.tensor(X)\n",
    "Y = torch.tensor(Y)"
   ]
  },
  {
   "cell_type": "markdown",
   "id": "90aeb004-46e6-4b05-be4b-396b8aa0b4c1",
   "metadata": {},
   "source": [
    "The size of the dataset is around 228k"
   ]
  },
  {
   "cell_type": "code",
   "execution_count": 14,
   "id": "3c6b9d1d-af4e-41f9-a414-dfafc758ef7e",
   "metadata": {},
   "outputs": [
    {
     "data": {
      "text/plain": [
       "(228146, 228146)"
      ]
     },
     "execution_count": 14,
     "metadata": {},
     "output_type": "execute_result"
    }
   ],
   "source": [
    "len(X), len(Y)"
   ]
  },
  {
   "cell_type": "markdown",
   "id": "326655bd-52cc-4cc3-925b-239a7d8c7c8c",
   "metadata": {},
   "source": [
    "We are going to create an embedding matrix. Each row in the matrix is going to correspond to each character in the vocab. We will use 2 dimensions for embedding so that we can visualize them after training."
   ]
  },
  {
   "cell_type": "markdown",
   "id": "6906f02a-3e23-492c-b873-106484ece234",
   "metadata": {},
   "source": [
    "### Initialize weights "
   ]
  },
  {
   "cell_type": "code",
   "execution_count": 99,
   "id": "8616af27-42a6-4f91-8a82-057b465070c6",
   "metadata": {},
   "outputs": [
    {
     "name": "stdout",
     "output_type": "stream",
     "text": [
      "shape of embedding matric: torch.Size([27, 2])\n",
      "shape of weights: torch.Size([6, 27]), bias: torch.Size([27])\n"
     ]
    }
   ],
   "source": [
    "# Creating the Embedding matrix\n",
    "emb_mat = torch.randn((len(vocab), 2), requires_grad=True)\n",
    "print(f'shape of embedding matric: {emb_mat.shape}')\n",
    "\n",
    "input_dim = emb_mat[X[0]].view(-1).shape[-1]\n",
    "vocab_size = len(vocab)\n",
    "# Initialize weights with random numbers\n",
    "wei = torch.randn(input_dim, vocab_size, requires_grad=True) # shape 6 x 27\n",
    "bias = torch.randn(vocab_size, requires_grad=True)           # shape 27\n",
    "print(f'shape of weights: {wei.shape}, bias: {bias.shape}')\n",
    "\n",
    "# Collect updateable parameters\n",
    "parameters = [wei, bias, emb_mat]"
   ]
  },
  {
   "cell_type": "markdown",
   "id": "dd82c28f-fecc-491f-a467-bfda0dec2edd",
   "metadata": {},
   "source": [
    "Let's create some predictions to see what the randomly initialized weights output"
   ]
  },
  {
   "cell_type": "code",
   "execution_count": 82,
   "id": "2d2a23d7-5271-43b0-ac4a-d40662f0b262",
   "metadata": {},
   "outputs": [],
   "source": [
    "def predict_next_token(num_names, longest_name=15):\n",
    "    # Start with the delimiter token\n",
    "    # Our model is a tri-gram model so needs three tokens to start\n",
    "    start_tokens = emb_mat[stoi[delimiter]]\n",
    "    # print(start_tokens.shape)\n",
    "    # Join three tokens to create the starter triad\n",
    "    start_tokens = torch.cat((start_tokens, start_tokens, start_tokens))\n",
    "    # print(start_tokens.shape)\n",
    "    \n",
    "    with torch.no_grad():\n",
    "        for _ in range(num_names): # Let's predict 20 names\n",
    "            counter = 0\n",
    "            while True:\n",
    "                logits = start_tokens @ wei + bias\n",
    "                probas = F.softmax(logits, dim=-1)\n",
    "                # Always pick the highest predicted logit (Not a good idea as it becomes deterministic)\n",
    "                next_idx = torch.multinomial(probas, 1, replacement=True).item()\n",
    "                next_char = itos[next_idx]\n",
    "                # print(f'start_tokens: {start_tokens}')\n",
    "                print(next_char, end='')\n",
    "                if counter != 0 and next_char == '.':\n",
    "                    break\n",
    "                next_token = emb_mat[next_idx]\n",
    "                # Replace first two tokens by the last two\n",
    "                first_two_tokens = start_tokens[2:].clone()\n",
    "                start_tokens[:4] = first_two_tokens\n",
    "                # Join predicted token to be fed to the model\n",
    "                start_tokens[4:] = next_token\n",
    "                counter += 1\n",
    "                if counter == longest_name: break\n",
    "            print()"
   ]
  },
  {
   "cell_type": "code",
   "execution_count": 91,
   "id": "827ce016-6de5-4097-ac5c-8ea7a48c7729",
   "metadata": {},
   "outputs": [
    {
     "name": "stdout",
     "output_type": "stream",
     "text": [
      "vgltxsgvttsgcfo\n",
      "deeqggxuggdxyov\n",
      "ek.\n",
      "bgkcurdoeggxuwg\n",
      "lyxubdoryoegdxu\n"
     ]
    }
   ],
   "source": [
    "predict_next_token(5)"
   ]
  },
  {
   "cell_type": "markdown",
   "id": "cce722eb-2b32-421f-9a2e-8bf2d48573c8",
   "metadata": {},
   "source": [
    "We are concatenating the embeddings of the three characters and feeding them to the model. In our case since we are using 2 embedding dimensions and three characters our model will expect 6 input features. We can accomplish this by manipulating the shape of the tensor with `.view(batch_size, -1)` method essentially flattening out the non-batch dimensions.  "
   ]
  },
  {
   "cell_type": "code",
   "execution_count": 33,
   "id": "d1552431-2328-4406-8087-948509ea6af4",
   "metadata": {},
   "outputs": [
    {
     "data": {
      "text/plain": [
       "tensor([[ 0.7459,  0.4700],\n",
       "        [ 0.7459,  0.4700],\n",
       "        [ 0.6868, -1.0874]], grad_fn=<IndexBackward0>)"
      ]
     },
     "execution_count": 33,
     "metadata": {},
     "output_type": "execute_result"
    }
   ],
   "source": [
    "# Embeddings for a sample\n",
    "emb_mat[X[1]]"
   ]
  },
  {
   "cell_type": "code",
   "execution_count": 34,
   "id": "320ece7f-6933-4317-9d34-f2101212600d",
   "metadata": {},
   "outputs": [
    {
     "data": {
      "text/plain": [
       "tensor([ 0.7459,  0.4700,  0.7459,  0.4700,  0.6868, -1.0874],\n",
       "       grad_fn=<ViewBackward0>)"
      ]
     },
     "execution_count": 34,
     "metadata": {},
     "output_type": "execute_result"
    }
   ],
   "source": [
    "emb_mat[X[1]].view(-1)"
   ]
  },
  {
   "cell_type": "code",
   "execution_count": 64,
   "id": "3dee037a-3fbf-422e-8584-98ed0d80e5e2",
   "metadata": {},
   "outputs": [
    {
     "data": {
      "text/plain": [
       "torch.Size([10, 27])"
      ]
     },
     "execution_count": 64,
     "metadata": {},
     "output_type": "execute_result"
    }
   ],
   "source": [
    "# Test a few samples\n",
    "samples = emb_mat[X[:10]].view(10, -1) # shape of samples 10 x 6\n",
    "output = samples @ wei + bias\n",
    "output.shape"
   ]
  },
  {
   "cell_type": "code",
   "execution_count": 65,
   "id": "d2a7ecb2-e68a-48f4-9379-70f8b040d55c",
   "metadata": {},
   "outputs": [],
   "source": [
    "loss = F.cross_entropy(output, Y[:10])"
   ]
  },
  {
   "cell_type": "code",
   "execution_count": 66,
   "id": "36f9c65c-6ec1-4dea-ae85-2d4ebb79ea16",
   "metadata": {},
   "outputs": [
    {
     "data": {
      "text/plain": [
       "tensor(5.2154, grad_fn=<NllLossBackward0>)"
      ]
     },
     "execution_count": 66,
     "metadata": {},
     "output_type": "execute_result"
    }
   ],
   "source": [
    "loss"
   ]
  },
  {
   "cell_type": "code",
   "execution_count": 67,
   "id": "3f4321b8-1fd8-4876-807a-6dd0adbf273c",
   "metadata": {},
   "outputs": [],
   "source": [
    "loss.backward()"
   ]
  },
  {
   "cell_type": "code",
   "execution_count": 69,
   "id": "de108ff2-9a64-4a8c-a068-d47880675dca",
   "metadata": {},
   "outputs": [
    {
     "data": {
      "text/plain": [
       "(torch.Size([27, 2]), torch.Size([6, 27]), torch.Size([27]))"
      ]
     },
     "execution_count": 69,
     "metadata": {},
     "output_type": "execute_result"
    }
   ],
   "source": [
    "emb_mat.grad.shape, wei.grad.shape, bias.grad.shape"
   ]
  },
  {
   "cell_type": "code",
   "execution_count": 100,
   "id": "2e01922e-2ec2-4371-9a69-e6dde5bf318d",
   "metadata": {},
   "outputs": [
    {
     "name": "stdout",
     "output_type": "stream",
     "text": [
      "epoch: 0, loss: 5.9966\n",
      "----------------------------------\n",
      "ufnfnfifgfrooff\n",
      "ctoffdfffdffffc\n",
      "nfsfsfsksfsfnfs\n",
      "fs.\n",
      "fsfsuffkhcnynxf\n",
      "==================================\n",
      "epoch: 100, loss: 3.5020\n",
      "----------------------------------\n",
      "aupffpfftofnfwf\n",
      "fvtfprcuxrfkyyv\n",
      "fpffktpkivgfhfi\n",
      "npfhtni.\n",
      "gfsfrapwfpffffh\n",
      "==================================\n",
      "epoch: 200, loss: 3.1141\n",
      "----------------------------------\n",
      "cpkhkufsfna.\n",
      "w.\n",
      "ea.\n",
      ".m.\n",
      "iil.\n",
      "==================================\n",
      "epoch: 300, loss: 2.9714\n",
      "----------------------------------\n",
      "rafdislan.\n",
      "elaamas.\n",
      "fhmn.\n",
      "jgwnio.\n",
      "fpkn.\n",
      "==================================\n",
      "epoch: 400, loss: 2.8977\n",
      "----------------------------------\n",
      "aeeema.\n",
      "an.\n",
      "lbei.\n",
      "zlexiiyy.\n",
      "azjyyvit.\n",
      "==================================\n",
      "epoch: 500, loss: 2.8501\n",
      "----------------------------------\n",
      "hnrr.\n",
      "cjeeawy.\n",
      "fqsiey.\n",
      "aa.\n",
      ".gxrfjyln.\n",
      "==================================\n",
      "epoch: 600, loss: 2.8144\n",
      "----------------------------------\n",
      "alosabaalamxky.\n",
      "aatjnaraag.\n",
      "eia.\n",
      "ueldqtqaehr.\n",
      "syohe.\n",
      "==================================\n",
      "epoch: 700, loss: 2.7847\n",
      "----------------------------------\n",
      "ei.\n",
      "lna.\n",
      "yel.\n",
      "eynipinfoiylam.\n",
      "ysg.\n",
      "==================================\n",
      "epoch: 800, loss: 2.7586\n",
      "----------------------------------\n",
      "yysta.\n",
      "rtnolizofytqjny\n",
      "a.\n",
      "l.\n",
      "mbad.\n",
      "==================================\n",
      "epoch: 900, loss: 2.7350\n",
      "----------------------------------\n",
      "jeant.\n",
      "ajcchnn.\n",
      "wie.\n",
      "zehh.\n",
      "in.\n",
      "==================================\n"
     ]
    }
   ],
   "source": [
    "lr = 0.1\n",
    "num_epochs = 1000\n",
    "\n",
    "# Don't forget to initialize the parameters\n",
    "\n",
    "for epoch in range(num_epochs):\n",
    "    logits = emb_mat[X].view(len(X), -1) @ wei + bias\n",
    "    loss = F.cross_entropy(logits, Y)\n",
    "    loss.backward()\n",
    "\n",
    "    for param in parameters:\n",
    "        param.data -= lr * param.grad\n",
    "        param.grad = None\n",
    "    if not epoch % 100:\n",
    "        print(f'epoch: {epoch}, loss: {loss:.4f}')\n",
    "        print('----------------------------------')\n",
    "        predict_next_token(5)\n",
    "        print('==================================')"
   ]
  },
  {
   "cell_type": "code",
   "execution_count": 108,
   "id": "63b96d7e-87ca-4e30-969b-68dcced84245",
   "metadata": {},
   "outputs": [
    {
     "data": {
      "image/png": "[encoded data removed]",
      "text/plain": [
       "<Figure size 800x800 with 1 Axes>"
      ]
     },
     "metadata": {},
     "output_type": "display_data"
    }
   ],
   "source": [
    "# visualize dimensions 0 and 1 of the embedding matrix emb_mat for all characters\n",
    "plt.figure(figsize=(8,8))\n",
    "plt.scatter(emb_mat[:,0].data, emb_mat[:,1].data, s=200)\n",
    "for i in range(emb_mat.shape[0]):\n",
    "    plt.text(emb_mat[i,0].item(), emb_mat[i,1].item(), itos[i], ha=\"center\", va=\"center\", color='white')\n",
    "plt.grid('minor')"
   ]
  },
  {
   "cell_type": "markdown",
   "id": "7b458fce-0df4-45e9-b8d4-0bc5dc2a27e5",
   "metadata": {},
   "source": [
    "There is nothing to be proud of here. We created a linear model and asked it to model how characters are related in a name. Next step let's add another layer and use non-linearity between first and second layers"
   ]
  },
  {
   "cell_type": "markdown",
   "id": "1d2b20c5-6c58-43f9-8e5f-bc2063040ecb",
   "metadata": {},
   "source": [
    "### Adding one additional layer and tanh non-linearity"
   ]
  },
  {
   "cell_type": "code",
   "execution_count": 238,
   "id": "b52ede4e",
   "metadata": {},
   "outputs": [
    {
     "name": "stdout",
     "output_type": "stream",
     "text": [
      "shape of embedding matric: torch.Size([27, 10])\n",
      "param.shape=torch.Size([30, 100])\n",
      "param.shape=torch.Size([100])\n",
      "param.shape=torch.Size([100, 27])\n",
      "param.shape=torch.Size([27])\n",
      "param.shape=torch.Size([27, 10])\n"
     ]
    }
   ],
   "source": [
    "# Creating the Embedding matrix\n",
    "emb_dim = 10\n",
    "emb_mat = torch.randn((len(vocab), emb_dim), requires_grad=True)\n",
    "print(f'shape of embedding matric: {emb_mat.shape}')\n",
    "\n",
    "input_dim = emb_mat[X[0]].view(-1).shape[-1]\n",
    "hidden_dim = 100\n",
    "vocab_size = len(vocab)\n",
    "# Initialize weights with random numbers\n",
    "wei_1 = torch.randn(input_dim, hidden_dim, requires_grad=True)     # shape 30 x 100 \n",
    "bias_1 = torch.randn(hidden_dim, requires_grad=True)               # shape 100\n",
    "wei_2 = torch.randn(hidden_dim, vocab_size, requires_grad=True)   # shape 100 x 27\n",
    "bias_2 = torch.randn(vocab_size, requires_grad=True)               # shape 27\n",
    "\n",
    "# Collect updateable parameters\n",
    "parameters = [wei_1, bias_1, wei_2, bias_2, emb_mat]\n",
    "\n",
    "for param in parameters: \n",
    "    print(f\"{param.shape=}\")"
   ]
  },
  {
   "cell_type": "code",
   "execution_count": 257,
   "id": "379d900f-fe66-452e-b013-e5d76a38260a",
   "metadata": {},
   "outputs": [
    {
     "name": "stdout",
     "output_type": "stream",
     "text": [
      "[0, 0, 0] -> 19\n",
      "[0, 0, 19] -> 1\n",
      "[0, 19, 1] -> 25\n",
      "[19, 1, 25] -> 10\n",
      "[1, 25, 10] -> 15\n",
      "[25, 10, 15] -> 18\n",
      "[10, 15, 18] -> 5\n",
      "[15, 18, 5] -> 0\n",
      "sayjore.\n"
     ]
    }
   ],
   "source": [
    "def predict_next_token(num_names, longest_name=15):\n",
    "    # Start with the delimiter token\n",
    "    # Our model is a tri-gram model so needs three tokens to start\n",
    "    # start_tokens = emb_mat[stoi[delimiter]]\n",
    "    # print(start_tokens.shape)\n",
    "    # Join three tokens to create the starter triad\n",
    "    # start_tokens = torch.cat((start_tokens, start_tokens, start_tokens))\n",
    "    # print(start_tokens.shape)\n",
    "\n",
    "    \n",
    "    with torch.no_grad():\n",
    "        for _ in range(num_names): \n",
    "            context = [0] * block_size\n",
    "            out = []\n",
    "            counter = 0\n",
    "            \n",
    "            while True:\n",
    "                inputs = emb_mat[context].view(-1)       # shape of inputs batch x 6\n",
    "                hidden = F.tanh(inputs @ wei_1 + bias_1)   # shape of hidden batch x 100\n",
    "                logits = hidden @ wei_2 + bias_2           # shape of logits batch x 27\n",
    "                probas = F.softmax(logits, dim=-1)\n",
    "                # Always pick the highest predicted logit (Not a good idea as it becomes deterministic)\n",
    "                next_idx = torch.multinomial(probas, 1, replacement=True).item()\n",
    "                print(f'{context} -> {next_idx}')\n",
    "                out.append(next_idx)\n",
    "                # next_char = itos[next_idx]\n",
    "                # print(f'start_tokens: {start_tokens}')\n",
    "                # print(next_char, end='')\n",
    "                if counter != 0 and next_idx == 0:\n",
    "                    break\n",
    "                # next_token = emb_mat[next_idx]\n",
    "                # Replace first two tokens by the last two\n",
    "                # first_two_tokens = start_tokens[2:].clone()\n",
    "                # start_tokens[:4] = first_two_tokens\n",
    "                # Join predicted token to be fed to the model\n",
    "                # start_tokens[4:] = next_token\n",
    "                context = context[1:]\n",
    "                context.append(next_idx)\n",
    "                counter += 1\n",
    "                if counter == longest_name: break\n",
    "            print(''.join([itos[i] for i in out]))\n",
    "predict_next_token(1)"
   ]
  },
  {
   "cell_type": "code",
   "execution_count": 239,
   "id": "33af5552-65ee-41e8-9f83-87daae4d1945",
   "metadata": {},
   "outputs": [
    {
     "name": "stdout",
     "output_type": "stream",
     "text": [
      "unnsslcdzjcxs.\n",
      ".ueiztshddnbesl\n",
      "jcdnyevodvxsexa\n",
      "mhdnnestbcmveul\n",
      "wcntetqwdvxkkho\n"
     ]
    }
   ],
   "source": [
    "# predictions from a random model\n",
    "predict_next_token(5)"
   ]
  },
  {
   "cell_type": "code",
   "execution_count": 240,
   "id": "266a6c67-fa89-405f-85be-fc8de4d310aa",
   "metadata": {},
   "outputs": [],
   "source": [
    "stepi = []\n",
    "lossi = []"
   ]
  },
  {
   "cell_type": "code",
   "execution_count": 241,
   "id": "11d86bbd",
   "metadata": {},
   "outputs": [],
   "source": [
    "lr = 0.1\n",
    "steps = 200000\n",
    "batch_size = 32\n",
    "\n",
    "# Don't forget to initialize the parameters\n",
    "\n",
    "for i in range(steps):\n",
    "    idx = torch.randint(0, X.shape[0] - 1, size=(batch_size,))\n",
    "\n",
    "    inputs = emb_mat[X[idx]].view(len(idx), -1)       # shape of inputs batch x 30\n",
    "    hidden = F.tanh(inputs @ wei_1 + bias_1)   # shape of hidden batch x 100\n",
    "    logits = hidden @ wei_2 + bias_2           # shape of logits batch x 27\n",
    "    loss = F.cross_entropy(logits, Y[idx])\n",
    "    loss.backward()\n",
    "\n",
    "    lr = 0.1 if i < 100000 else 0.01\n",
    "    for param in parameters:\n",
    "        param.data -= lr * param.grad\n",
    "        param.grad = None\n",
    "    stepi.append(i)\n",
    "    lossi.append(loss)\n",
    "    # if not epoch % 100:\n",
    "    #     print(f'epoch: {epoch}, loss: {loss:.4f}')\n",
    "    #     print('----------------------------------')\n",
    "    #     predict_next_token(5)\n",
    "    #     print('==================================')"
   ]
  },
  {
   "cell_type": "code",
   "execution_count": 242,
   "id": "37c713b4-ca3b-4a88-9371-ec3ac6831532",
   "metadata": {},
   "outputs": [
    {
     "data": {
      "image/png": "[encoded data removed]",
      "text/plain": [
       "<Figure size 640x480 with 1 Axes>"
      ]
     },
     "metadata": {},
     "output_type": "display_data"
    }
   ],
   "source": [
    "plt.plot(stepi, [i.log10().item() for i in lossi]);"
   ]
  },
  {
   "cell_type": "code",
   "execution_count": 243,
   "id": "9913321a-2b6b-406b-876d-8403955b11e3",
   "metadata": {},
   "outputs": [
    {
     "name": "stdout",
     "output_type": "stream",
     "text": [
      "tensor(2.1562, grad_fn=<NllLossBackward0>)\n"
     ]
    }
   ],
   "source": [
    "inputs = emb_mat[X].view(len(X), -1)       # shape of inputs batch x 30\n",
    "hidden = F.tanh(inputs @ wei_1 + bias_1)   # shape of hidden batch x 100\n",
    "logits = hidden @ wei_2 + bias_2           # shape of logits batch x 27\n",
    "loss = F.cross_entropy(logits, Y)\n",
    "print(loss)"
   ]
  },
  {
   "cell_type": "code",
   "execution_count": 246,
   "id": "24ed17a3-e41a-433a-b594-4c3fd5c81dfb",
   "metadata": {},
   "outputs": [
    {
     "name": "stdout",
     "output_type": "stream",
     "text": [
      "wloe.\n",
      "m.\n",
      "on.\n",
      ".ajmelin.\n",
      ".kor.\n",
      "d.\n",
      "inzius.\n",
      "..\n",
      ".zis.\n",
      "ham.\n",
      ".komonte.\n",
      "elusteyd.\n",
      "en.\n",
      ".kean.\n",
      "na.\n",
      "h.\n",
      ".aja.\n",
      "ianna.\n",
      "..\n",
      ".aalya.\n"
     ]
    }
   ],
   "source": [
    "predict_next_token(20)"
   ]
  },
  {
   "cell_type": "code",
   "execution_count": 237,
   "id": "0989d555-64c0-4972-8820-55f22b2263d7",
   "metadata": {},
   "outputs": [
    {
     "data": {
      "image/png": "[encoded data removed]",
      "text/plain": [
       "<Figure size 800x800 with 1 Axes>"
      ]
     },
     "metadata": {},
     "output_type": "display_data"
    }
   ],
   "source": [
    "# visualize dimensions 0 and 1 of the embedding matrix emb_mat for all characters\n",
    "plt.figure(figsize=(8,8))\n",
    "plt.scatter(emb_mat[:,0].data, emb_mat[:,1].data, s=200)\n",
    "for i in range(emb_mat.shape[0]):\n",
    "    plt.text(emb_mat[i,0].item(), emb_mat[i,1].item(), itos[i], ha=\"center\", va=\"center\", color='white')\n",
    "plt.grid('minor')"
   ]
  }
 ],
 "metadata": {
  "kernelspec": {
   "display_name": "Python 3 (ipykernel)",
   "language": "python",
   "name": "python3"
  },
  "language_info": {
   "codemirror_mode": {
    "name": "ipython",
    "version": 3
   },
   "file_extension": ".py",
   "mimetype": "text/x-python",
   "name": "python",
   "nbconvert_exporter": "python",
   "pygments_lexer": "ipython3",
   "version": "3.11.3"
  }
 },
 "nbformat": 4,
 "nbformat_minor": 5
}
